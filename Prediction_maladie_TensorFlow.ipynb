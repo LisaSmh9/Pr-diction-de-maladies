{
  "cells": [
    {
      "cell_type": "code",
      "execution_count": 9,
      "metadata": {
        "id": "rWifNk0MZusH"
      },
      "outputs": [],
      "source": [
        "import pandas as pd\n",
        "import numpy as np\n",
        "import matplotlib.pyplot as plt\n",
        "import tensorflow as tf\n",
        "from sklearn.model_selection import train_test_split\n",
        "from sklearn.preprocessing import LabelEncoder\n",
        "from sklearn.metrics import accuracy_score"
      ]
    },
    {
      "cell_type": "code",
      "execution_count": 10,
      "metadata": {
        "colab": {
          "base_uri": "https://localhost:8080/"
        },
        "id": "KvAHIBe_coEe",
        "outputId": "b94e38b4-0d8c-44af-c440-70e448a85612"
      },
      "outputs": [
        {
          "name": "stdout",
          "output_type": "stream",
          "text": [
            "La dimension du training_data est : (4920, 134)\n",
            "La dimension du testing_data est : (42, 133)\n"
          ]
        }
      ],
      "source": [
        "#Charger les données\n",
        "training_data = pd.read_csv(\"Training.csv\")\n",
        "testing_data = pd.read_csv(\"Testing.csv\")\n",
        "\n",
        "dim_Train = training_data.shape\n",
        "dim_Test = testing_data.shape\n",
        "\n",
        "print(\"La dimension du training_data est :\", dim_Train)\n",
        "print(\"La dimension du testing_data est :\", dim_Test)"
      ]
    },
    {
      "cell_type": "code",
      "execution_count": 11,
      "metadata": {
        "colab": {
          "base_uri": "https://localhost:8080/"
        },
        "id": "9p2IY9oIkyKx",
        "outputId": "50931a87-a8ff-42c7-d94f-72013b0b48f7"
      },
      "outputs": [
        {
          "name": "stdout",
          "output_type": "stream",
          "text": [
            "Dernière colonne par indice est :\n",
            " 0      NaN\n",
            "1      NaN\n",
            "2      NaN\n",
            "3      NaN\n",
            "4      NaN\n",
            "        ..\n",
            "4915   NaN\n",
            "4916   NaN\n",
            "4917   NaN\n",
            "4918   NaN\n",
            "4919   NaN\n",
            "Name: Unnamed: 133, Length: 4920, dtype: float64\n",
            "Index(['itching', 'skin_rash', 'nodal_skin_eruptions', 'continuous_sneezing',\n",
            "       'shivering', 'chills', 'joint_pain', 'stomach_pain', 'acidity',\n",
            "       'ulcers_on_tongue',\n",
            "       ...\n",
            "       'scurring', 'skin_peeling', 'silver_like_dusting',\n",
            "       'small_dents_in_nails', 'inflammatory_nails', 'blister',\n",
            "       'red_sore_around_nose', 'yellow_crust_ooze', 'prognosis',\n",
            "       'Unnamed: 133'],\n",
            "      dtype='object', length=134)\n",
            "[nan]\n"
          ]
        }
      ],
      "source": [
        "derniere_colonne = training_data.iloc[:, 133]\n",
        "print(\"Dernière colonne par indice est :\\n\", derniere_colonne)\n",
        "\n",
        "#Noms des colonnes de notre dataset\n",
        "print(training_data.columns)\n",
        "\n",
        "valeurs_uniques = training_data['Unnamed: 133'].unique()\n",
        "print(valeurs_uniques) #la colonne \"Unnamed: 133\" contient que des Na\n",
        "\n",
        "#Suppression de la colonne \"Unnamed: 133\", car elle contient que des Na\n",
        "training_data = training_data.drop(columns=['Unnamed: 133'])"
      ]
    },
    {
      "cell_type": "code",
      "execution_count": 12,
      "metadata": {
        "colab": {
          "base_uri": "https://localhost:8080/"
        },
        "id": "j0AGmBGvl19R",
        "outputId": "15ad6781-568c-48b1-ffba-c3bf9df8f41d"
      },
      "outputs": [
        {
          "name": "stdout",
          "output_type": "stream",
          "text": [
            "   itching  skin_rash  nodal_skin_eruptions  continuous_sneezing  shivering  \\\n",
            "0        1          1                     1                    0          0   \n",
            "1        0          1                     1                    0          0   \n",
            "2        1          0                     1                    0          0   \n",
            "3        1          1                     0                    0          0   \n",
            "4        1          1                     1                    0          0   \n",
            "\n",
            "   chills  joint_pain  stomach_pain  acidity  ulcers_on_tongue  ...  \\\n",
            "0       0           0             0        0                 0  ...   \n",
            "1       0           0             0        0                 0  ...   \n",
            "2       0           0             0        0                 0  ...   \n",
            "3       0           0             0        0                 0  ...   \n",
            "4       0           0             0        0                 0  ...   \n",
            "\n",
            "   blackheads  scurring  skin_peeling  silver_like_dusting  \\\n",
            "0           0         0             0                    0   \n",
            "1           0         0             0                    0   \n",
            "2           0         0             0                    0   \n",
            "3           0         0             0                    0   \n",
            "4           0         0             0                    0   \n",
            "\n",
            "   small_dents_in_nails  inflammatory_nails  blister  red_sore_around_nose  \\\n",
            "0                     0                   0        0                     0   \n",
            "1                     0                   0        0                     0   \n",
            "2                     0                   0        0                     0   \n",
            "3                     0                   0        0                     0   \n",
            "4                     0                   0        0                     0   \n",
            "\n",
            "   yellow_crust_ooze         prognosis  \n",
            "0                  0  Fungal infection  \n",
            "1                  0  Fungal infection  \n",
            "2                  0  Fungal infection  \n",
            "3                  0  Fungal infection  \n",
            "4                  0  Fungal infection  \n",
            "\n",
            "[5 rows x 133 columns]\n",
            "(41,)\n",
            "prognosis\n",
            "Fungal infection                           120\n",
            "Hepatitis C                                120\n",
            "Hepatitis E                                120\n",
            "Alcoholic hepatitis                        120\n",
            "Tuberculosis                               120\n",
            "Common Cold                                120\n",
            "Pneumonia                                  120\n",
            "Dimorphic hemmorhoids(piles)               120\n",
            "Heart attack                               120\n",
            "Varicose veins                             120\n",
            "Hypothyroidism                             120\n",
            "Hyperthyroidism                            120\n",
            "Hypoglycemia                               120\n",
            "Osteoarthristis                            120\n",
            "Arthritis                                  120\n",
            "(vertigo) Paroymsal  Positional Vertigo    120\n",
            "Acne                                       120\n",
            "Urinary tract infection                    120\n",
            "Psoriasis                                  120\n",
            "Hepatitis D                                120\n",
            "Hepatitis B                                120\n",
            "Allergy                                    120\n",
            "hepatitis A                                120\n",
            "GERD                                       120\n",
            "Chronic cholestasis                        120\n",
            "Drug Reaction                              120\n",
            "Peptic ulcer diseae                        120\n",
            "AIDS                                       120\n",
            "Diabetes                                   120\n",
            "Gastroenteritis                            120\n",
            "Bronchial Asthma                           120\n",
            "Hypertension                               120\n",
            "Migraine                                   120\n",
            "Cervical spondylosis                       120\n",
            "Paralysis (brain hemorrhage)               120\n",
            "Jaundice                                   120\n",
            "Malaria                                    120\n",
            "Chicken pox                                120\n",
            "Dengue                                     120\n",
            "Typhoid                                    120\n",
            "Impetigo                                   120\n",
            "Name: count, dtype: int64\n"
          ]
        }
      ],
      "source": [
        "print(training_data.head())\n",
        "\n",
        "#liste des différentes classes (maladies)\n",
        "valeurs_uniques = training_data['prognosis'].unique()\n",
        "print(valeurs_uniques.shape) #42 maladies\n",
        "#Occurrences de chaque classe\n",
        "nb_valeurs_uniques = training_data['prognosis'].value_counts()\n",
        "print(nb_valeurs_uniques)"
      ]
    },
    {
      "cell_type": "code",
      "execution_count": 16,
      "metadata": {
        "colab": {
          "base_uri": "https://localhost:8080/"
        },
        "id": "KQvfgBAclMbB",
        "outputId": "1fecf6be-6183-4f2d-d94c-184ce1a08025"
      },
      "outputs": [
        {
          "name": "stdout",
          "output_type": "stream",
          "text": [
            "4920 132\n",
            "(4920,)\n"
          ]
        }
      ],
      "source": [
        "X_train = training_data.iloc[:,0:132]\n",
        "Y_train = training_data.iloc[:, 132] \n",
        "x = train_data.shape[0]\n",
        "y = train_data.shape[1]\n",
        "print(x, y)\n",
        "print(Y.shape)"
      ]
    },
    {
      "cell_type": "code",
      "execution_count": 17,
      "metadata": {
        "id": "rQdJcSk1VoIZ"
      },
      "outputs": [],
      "source": [
        "# Définition du modèle TensorFlow\n",
        "def create_model(input_size, nb_classes):\n",
        "    model = tf.keras.models.Sequential()\n",
        "\n",
        "    # Couche dense avec 128 neurones et une fonction d'activation 'sigmoid'\n",
        "    model.add(tf.keras.layers.Dense(128, input_shape=(input_size,), activation='sigmoid'))\n",
        "\n",
        "    # Couche de sortie avec softmax pour la classification des 42 classes\n",
        "    model.add(tf.keras.layers.Dense(nb_classes, activation='softmax'))\n",
        "\n",
        "    # Compilation du modèle\n",
        "    model.compile(optimizer='adam', loss='categorical_crossentropy', metrics=['accuracy'])\n",
        "\n",
        "    return model\n"
      ]
    },
    {
      "cell_type": "code",
      "execution_count": 18,
      "metadata": {
        "colab": {
          "base_uri": "https://localhost:8080/"
        },
        "id": "SVVFpVVx90ML",
        "outputId": "b72ed61b-c466-470f-ad49-7c1cf89852b6"
      },
      "outputs": [],
      "source": [
        "# Encodage des étiquettes en entiers\n",
        "label_encoder = LabelEncoder()\n",
        "Y_train_encoded = label_encoder.fit_transform(Y_train)\n",
        "\n",
        "# Transformation en one-hot encoding\n",
        "Y_train_one_hot = tf.keras.utils.to_categorical(Y_train_encoded, num_classes=42)\n",
        "\n",
        "# Séparer les features et les labels de test\n",
        "X_test = testing_data.iloc[:, 0:132].values\n",
        "Y_test_encoded = label_encoder.transform(testing_data['prognosis'])\n",
        "Y_test_one_hot = tf.keras.utils.to_categorical(Y_test_encoded, num_classes=42)\n"
      ]
    },
    {
      "cell_type": "code",
      "execution_count": 19,
      "metadata": {
        "id": "TtR6kFNdWo4M"
      },
      "outputs": [
        {
          "name": "stderr",
          "output_type": "stream",
          "text": [
            "c:\\Users\\lisas\\AppData\\Local\\Programs\\Python\\Python312\\Lib\\site-packages\\keras\\src\\layers\\core\\dense.py:87: UserWarning: Do not pass an `input_shape`/`input_dim` argument to a layer. When using Sequential models, prefer using an `Input(shape)` object as the first layer in the model instead.\n",
            "  super().__init__(activity_regularizer=activity_regularizer, **kwargs)\n"
          ]
        },
        {
          "name": "stdout",
          "output_type": "stream",
          "text": [
            "Epoch 1/100\n",
            "\u001b[1m154/154\u001b[0m \u001b[32m━━━━━━━━━━━━━━━━━━━━\u001b[0m\u001b[37m\u001b[0m \u001b[1m2s\u001b[0m 4ms/step - accuracy: 0.2981 - loss: 3.4827 - val_accuracy: 0.9286 - val_loss: 2.4118\n",
            "Epoch 2/100\n",
            "\u001b[1m154/154\u001b[0m \u001b[32m━━━━━━━━━━━━━━━━━━━━\u001b[0m\u001b[37m\u001b[0m \u001b[1m0s\u001b[0m 3ms/step - accuracy: 0.9566 - loss: 2.1102 - val_accuracy: 0.9762 - val_loss: 1.1353\n",
            "Epoch 3/100\n",
            "\u001b[1m154/154\u001b[0m \u001b[32m━━━━━━━━━━━━━━━━━━━━\u001b[0m\u001b[37m\u001b[0m \u001b[1m0s\u001b[0m 3ms/step - accuracy: 0.9994 - loss: 0.9692 - val_accuracy: 0.9762 - val_loss: 0.4764\n",
            "Epoch 4/100\n",
            "\u001b[1m154/154\u001b[0m \u001b[32m━━━━━━━━━━━━━━━━━━━━\u001b[0m\u001b[37m\u001b[0m \u001b[1m0s\u001b[0m 2ms/step - accuracy: 0.9999 - loss: 0.4253 - val_accuracy: 0.9762 - val_loss: 0.2463\n",
            "Epoch 5/100\n",
            "\u001b[1m154/154\u001b[0m \u001b[32m━━━━━━━━━━━━━━━━━━━━\u001b[0m\u001b[37m\u001b[0m \u001b[1m0s\u001b[0m 2ms/step - accuracy: 1.0000 - loss: 0.2164 - val_accuracy: 0.9762 - val_loss: 0.1611\n",
            "Epoch 6/100\n",
            "\u001b[1m154/154\u001b[0m \u001b[32m━━━━━━━━━━━━━━━━━━━━\u001b[0m\u001b[37m\u001b[0m \u001b[1m0s\u001b[0m 2ms/step - accuracy: 1.0000 - loss: 0.1307 - val_accuracy: 0.9762 - val_loss: 0.1169\n",
            "Epoch 7/100\n",
            "\u001b[1m154/154\u001b[0m \u001b[32m━━━━━━━━━━━━━━━━━━━━\u001b[0m\u001b[37m\u001b[0m \u001b[1m0s\u001b[0m 2ms/step - accuracy: 1.0000 - loss: 0.0868 - val_accuracy: 0.9762 - val_loss: 0.0925\n",
            "Epoch 8/100\n",
            "\u001b[1m154/154\u001b[0m \u001b[32m━━━━━━━━━━━━━━━━━━━━\u001b[0m\u001b[37m\u001b[0m \u001b[1m0s\u001b[0m 2ms/step - accuracy: 1.0000 - loss: 0.0593 - val_accuracy: 0.9762 - val_loss: 0.0803\n",
            "Epoch 9/100\n",
            "\u001b[1m154/154\u001b[0m \u001b[32m━━━━━━━━━━━━━━━━━━━━\u001b[0m\u001b[37m\u001b[0m \u001b[1m0s\u001b[0m 2ms/step - accuracy: 1.0000 - loss: 0.0440 - val_accuracy: 0.9762 - val_loss: 0.0708\n",
            "Epoch 10/100\n",
            "\u001b[1m154/154\u001b[0m \u001b[32m━━━━━━━━━━━━━━━━━━━━\u001b[0m\u001b[37m\u001b[0m \u001b[1m0s\u001b[0m 2ms/step - accuracy: 1.0000 - loss: 0.0331 - val_accuracy: 0.9762 - val_loss: 0.0664\n",
            "Epoch 11/100\n",
            "\u001b[1m154/154\u001b[0m \u001b[32m━━━━━━━━━━━━━━━━━━━━\u001b[0m\u001b[37m\u001b[0m \u001b[1m0s\u001b[0m 2ms/step - accuracy: 1.0000 - loss: 0.0261 - val_accuracy: 0.9762 - val_loss: 0.0619\n",
            "Epoch 12/100\n",
            "\u001b[1m154/154\u001b[0m \u001b[32m━━━━━━━━━━━━━━━━━━━━\u001b[0m\u001b[37m\u001b[0m \u001b[1m0s\u001b[0m 2ms/step - accuracy: 1.0000 - loss: 0.0212 - val_accuracy: 0.9762 - val_loss: 0.0587\n",
            "Epoch 13/100\n",
            "\u001b[1m154/154\u001b[0m \u001b[32m━━━━━━━━━━━━━━━━━━━━\u001b[0m\u001b[37m\u001b[0m \u001b[1m0s\u001b[0m 2ms/step - accuracy: 1.0000 - loss: 0.0177 - val_accuracy: 0.9762 - val_loss: 0.0564\n",
            "Epoch 14/100\n",
            "\u001b[1m154/154\u001b[0m \u001b[32m━━━━━━━━━━━━━━━━━━━━\u001b[0m\u001b[37m\u001b[0m \u001b[1m0s\u001b[0m 2ms/step - accuracy: 1.0000 - loss: 0.0153 - val_accuracy: 0.9762 - val_loss: 0.0547\n",
            "Epoch 15/100\n",
            "\u001b[1m154/154\u001b[0m \u001b[32m━━━━━━━━━━━━━━━━━━━━\u001b[0m\u001b[37m\u001b[0m \u001b[1m0s\u001b[0m 2ms/step - accuracy: 1.0000 - loss: 0.0126 - val_accuracy: 0.9762 - val_loss: 0.0532\n",
            "Epoch 16/100\n",
            "\u001b[1m154/154\u001b[0m \u001b[32m━━━━━━━━━━━━━━━━━━━━\u001b[0m\u001b[37m\u001b[0m \u001b[1m0s\u001b[0m 2ms/step - accuracy: 1.0000 - loss: 0.0106 - val_accuracy: 0.9762 - val_loss: 0.0526\n",
            "Epoch 17/100\n",
            "\u001b[1m154/154\u001b[0m \u001b[32m━━━━━━━━━━━━━━━━━━━━\u001b[0m\u001b[37m\u001b[0m \u001b[1m0s\u001b[0m 2ms/step - accuracy: 1.0000 - loss: 0.0093 - val_accuracy: 0.9762 - val_loss: 0.0517\n",
            "Epoch 18/100\n",
            "\u001b[1m154/154\u001b[0m \u001b[32m━━━━━━━━━━━━━━━━━━━━\u001b[0m\u001b[37m\u001b[0m \u001b[1m0s\u001b[0m 2ms/step - accuracy: 1.0000 - loss: 0.0077 - val_accuracy: 0.9762 - val_loss: 0.0514\n",
            "Epoch 19/100\n",
            "\u001b[1m154/154\u001b[0m \u001b[32m━━━━━━━━━━━━━━━━━━━━\u001b[0m\u001b[37m\u001b[0m \u001b[1m0s\u001b[0m 2ms/step - accuracy: 1.0000 - loss: 0.0069 - val_accuracy: 0.9762 - val_loss: 0.0511\n",
            "Epoch 20/100\n",
            "\u001b[1m154/154\u001b[0m \u001b[32m━━━━━━━━━━━━━━━━━━━━\u001b[0m\u001b[37m\u001b[0m \u001b[1m0s\u001b[0m 2ms/step - accuracy: 1.0000 - loss: 0.0060 - val_accuracy: 0.9762 - val_loss: 0.0510\n",
            "Epoch 21/100\n",
            "\u001b[1m154/154\u001b[0m \u001b[32m━━━━━━━━━━━━━━━━━━━━\u001b[0m\u001b[37m\u001b[0m \u001b[1m0s\u001b[0m 2ms/step - accuracy: 1.0000 - loss: 0.0054 - val_accuracy: 0.9762 - val_loss: 0.0501\n",
            "Epoch 22/100\n",
            "\u001b[1m154/154\u001b[0m \u001b[32m━━━━━━━━━━━━━━━━━━━━\u001b[0m\u001b[37m\u001b[0m \u001b[1m0s\u001b[0m 3ms/step - accuracy: 1.0000 - loss: 0.0048 - val_accuracy: 0.9762 - val_loss: 0.0496\n",
            "Epoch 23/100\n",
            "\u001b[1m154/154\u001b[0m \u001b[32m━━━━━━━━━━━━━━━━━━━━\u001b[0m\u001b[37m\u001b[0m \u001b[1m0s\u001b[0m 2ms/step - accuracy: 1.0000 - loss: 0.0042 - val_accuracy: 0.9762 - val_loss: 0.0490\n",
            "Epoch 24/100\n",
            "\u001b[1m154/154\u001b[0m \u001b[32m━━━━━━━━━━━━━━━━━━━━\u001b[0m\u001b[37m\u001b[0m \u001b[1m0s\u001b[0m 2ms/step - accuracy: 1.0000 - loss: 0.0038 - val_accuracy: 0.9762 - val_loss: 0.0488\n",
            "Epoch 25/100\n",
            "\u001b[1m154/154\u001b[0m \u001b[32m━━━━━━━━━━━━━━━━━━━━\u001b[0m\u001b[37m\u001b[0m \u001b[1m0s\u001b[0m 2ms/step - accuracy: 1.0000 - loss: 0.0033 - val_accuracy: 0.9762 - val_loss: 0.0484\n",
            "Epoch 26/100\n",
            "\u001b[1m154/154\u001b[0m \u001b[32m━━━━━━━━━━━━━━━━━━━━\u001b[0m\u001b[37m\u001b[0m \u001b[1m0s\u001b[0m 2ms/step - accuracy: 1.0000 - loss: 0.0031 - val_accuracy: 0.9762 - val_loss: 0.0483\n",
            "Epoch 27/100\n",
            "\u001b[1m154/154\u001b[0m \u001b[32m━━━━━━━━━━━━━━━━━━━━\u001b[0m\u001b[37m\u001b[0m \u001b[1m0s\u001b[0m 2ms/step - accuracy: 1.0000 - loss: 0.0026 - val_accuracy: 0.9762 - val_loss: 0.0485\n",
            "Epoch 28/100\n",
            "\u001b[1m154/154\u001b[0m \u001b[32m━━━━━━━━━━━━━━━━━━━━\u001b[0m\u001b[37m\u001b[0m \u001b[1m0s\u001b[0m 2ms/step - accuracy: 1.0000 - loss: 0.0024 - val_accuracy: 0.9762 - val_loss: 0.0483\n",
            "Epoch 29/100\n",
            "\u001b[1m154/154\u001b[0m \u001b[32m━━━━━━━━━━━━━━━━━━━━\u001b[0m\u001b[37m\u001b[0m \u001b[1m0s\u001b[0m 2ms/step - accuracy: 1.0000 - loss: 0.0022 - val_accuracy: 0.9762 - val_loss: 0.0481\n",
            "Epoch 30/100\n",
            "\u001b[1m154/154\u001b[0m \u001b[32m━━━━━━━━━━━━━━━━━━━━\u001b[0m\u001b[37m\u001b[0m \u001b[1m0s\u001b[0m 2ms/step - accuracy: 1.0000 - loss: 0.0019 - val_accuracy: 0.9762 - val_loss: 0.0481\n",
            "Epoch 31/100\n",
            "\u001b[1m154/154\u001b[0m \u001b[32m━━━━━━━━━━━━━━━━━━━━\u001b[0m\u001b[37m\u001b[0m \u001b[1m0s\u001b[0m 2ms/step - accuracy: 1.0000 - loss: 0.0018 - val_accuracy: 0.9762 - val_loss: 0.0484\n",
            "Epoch 32/100\n",
            "\u001b[1m154/154\u001b[0m \u001b[32m━━━━━━━━━━━━━━━━━━━━\u001b[0m\u001b[37m\u001b[0m \u001b[1m0s\u001b[0m 2ms/step - accuracy: 1.0000 - loss: 0.0016 - val_accuracy: 0.9762 - val_loss: 0.0478\n",
            "Epoch 33/100\n",
            "\u001b[1m154/154\u001b[0m \u001b[32m━━━━━━━━━━━━━━━━━━━━\u001b[0m\u001b[37m\u001b[0m \u001b[1m0s\u001b[0m 2ms/step - accuracy: 1.0000 - loss: 0.0015 - val_accuracy: 0.9762 - val_loss: 0.0478\n",
            "Epoch 34/100\n",
            "\u001b[1m154/154\u001b[0m \u001b[32m━━━━━━━━━━━━━━━━━━━━\u001b[0m\u001b[37m\u001b[0m \u001b[1m0s\u001b[0m 2ms/step - accuracy: 1.0000 - loss: 0.0014 - val_accuracy: 0.9762 - val_loss: 0.0479\n",
            "Epoch 35/100\n",
            "\u001b[1m154/154\u001b[0m \u001b[32m━━━━━━━━━━━━━━━━━━━━\u001b[0m\u001b[37m\u001b[0m \u001b[1m0s\u001b[0m 2ms/step - accuracy: 1.0000 - loss: 0.0012 - val_accuracy: 0.9762 - val_loss: 0.0479\n",
            "Epoch 36/100\n",
            "\u001b[1m154/154\u001b[0m \u001b[32m━━━━━━━━━━━━━━━━━━━━\u001b[0m\u001b[37m\u001b[0m \u001b[1m0s\u001b[0m 2ms/step - accuracy: 1.0000 - loss: 0.0010 - val_accuracy: 0.9762 - val_loss: 0.0477\n",
            "Epoch 37/100\n",
            "\u001b[1m154/154\u001b[0m \u001b[32m━━━━━━━━━━━━━━━━━━━━\u001b[0m\u001b[37m\u001b[0m \u001b[1m0s\u001b[0m 2ms/step - accuracy: 1.0000 - loss: 0.0011 - val_accuracy: 0.9762 - val_loss: 0.0480\n",
            "Epoch 38/100\n",
            "\u001b[1m154/154\u001b[0m \u001b[32m━━━━━━━━━━━━━━━━━━━━\u001b[0m\u001b[37m\u001b[0m \u001b[1m0s\u001b[0m 2ms/step - accuracy: 1.0000 - loss: 9.4088e-04 - val_accuracy: 0.9762 - val_loss: 0.0477\n",
            "Epoch 39/100\n",
            "\u001b[1m154/154\u001b[0m \u001b[32m━━━━━━━━━━━━━━━━━━━━\u001b[0m\u001b[37m\u001b[0m \u001b[1m0s\u001b[0m 2ms/step - accuracy: 1.0000 - loss: 8.5266e-04 - val_accuracy: 0.9762 - val_loss: 0.0480\n",
            "Epoch 40/100\n",
            "\u001b[1m154/154\u001b[0m \u001b[32m━━━━━━━━━━━━━━━━━━━━\u001b[0m\u001b[37m\u001b[0m \u001b[1m0s\u001b[0m 2ms/step - accuracy: 1.0000 - loss: 8.1011e-04 - val_accuracy: 0.9762 - val_loss: 0.0477\n",
            "Epoch 41/100\n",
            "\u001b[1m154/154\u001b[0m \u001b[32m━━━━━━━━━━━━━━━━━━━━\u001b[0m\u001b[37m\u001b[0m \u001b[1m0s\u001b[0m 2ms/step - accuracy: 1.0000 - loss: 7.2219e-04 - val_accuracy: 0.9762 - val_loss: 0.0479\n",
            "Epoch 42/100\n",
            "\u001b[1m154/154\u001b[0m \u001b[32m━━━━━━━━━━━━━━━━━━━━\u001b[0m\u001b[37m\u001b[0m \u001b[1m0s\u001b[0m 2ms/step - accuracy: 1.0000 - loss: 6.6751e-04 - val_accuracy: 0.9762 - val_loss: 0.0479\n",
            "Epoch 43/100\n",
            "\u001b[1m154/154\u001b[0m \u001b[32m━━━━━━━━━━━━━━━━━━━━\u001b[0m\u001b[37m\u001b[0m \u001b[1m0s\u001b[0m 2ms/step - accuracy: 1.0000 - loss: 5.8961e-04 - val_accuracy: 0.9762 - val_loss: 0.0479\n",
            "Epoch 44/100\n",
            "\u001b[1m154/154\u001b[0m \u001b[32m━━━━━━━━━━━━━━━━━━━━\u001b[0m\u001b[37m\u001b[0m \u001b[1m0s\u001b[0m 2ms/step - accuracy: 1.0000 - loss: 5.4978e-04 - val_accuracy: 0.9762 - val_loss: 0.0484\n",
            "Epoch 45/100\n",
            "\u001b[1m154/154\u001b[0m \u001b[32m━━━━━━━━━━━━━━━━━━━━\u001b[0m\u001b[37m\u001b[0m \u001b[1m0s\u001b[0m 2ms/step - accuracy: 1.0000 - loss: 4.9867e-04 - val_accuracy: 0.9762 - val_loss: 0.0485\n",
            "Epoch 46/100\n",
            "\u001b[1m154/154\u001b[0m \u001b[32m━━━━━━━━━━━━━━━━━━━━\u001b[0m\u001b[37m\u001b[0m \u001b[1m0s\u001b[0m 2ms/step - accuracy: 1.0000 - loss: 4.4372e-04 - val_accuracy: 0.9762 - val_loss: 0.0483\n",
            "Epoch 47/100\n",
            "\u001b[1m154/154\u001b[0m \u001b[32m━━━━━━━━━━━━━━━━━━━━\u001b[0m\u001b[37m\u001b[0m \u001b[1m0s\u001b[0m 2ms/step - accuracy: 1.0000 - loss: 4.2582e-04 - val_accuracy: 0.9762 - val_loss: 0.0482\n",
            "Epoch 48/100\n",
            "\u001b[1m154/154\u001b[0m \u001b[32m━━━━━━━━━━━━━━━━━━━━\u001b[0m\u001b[37m\u001b[0m \u001b[1m0s\u001b[0m 2ms/step - accuracy: 1.0000 - loss: 4.0368e-04 - val_accuracy: 0.9762 - val_loss: 0.0485\n",
            "Epoch 49/100\n",
            "\u001b[1m154/154\u001b[0m \u001b[32m━━━━━━━━━━━━━━━━━━━━\u001b[0m\u001b[37m\u001b[0m \u001b[1m0s\u001b[0m 2ms/step - accuracy: 1.0000 - loss: 3.7734e-04 - val_accuracy: 0.9762 - val_loss: 0.0484\n",
            "Epoch 50/100\n",
            "\u001b[1m154/154\u001b[0m \u001b[32m━━━━━━━━━━━━━━━━━━━━\u001b[0m\u001b[37m\u001b[0m \u001b[1m0s\u001b[0m 2ms/step - accuracy: 1.0000 - loss: 3.3171e-04 - val_accuracy: 0.9762 - val_loss: 0.0489\n",
            "Epoch 51/100\n",
            "\u001b[1m154/154\u001b[0m \u001b[32m━━━━━━━━━━━━━━━━━━━━\u001b[0m\u001b[37m\u001b[0m \u001b[1m0s\u001b[0m 2ms/step - accuracy: 1.0000 - loss: 3.0918e-04 - val_accuracy: 0.9762 - val_loss: 0.0489\n",
            "Epoch 52/100\n",
            "\u001b[1m154/154\u001b[0m \u001b[32m━━━━━━━━━━━━━━━━━━━━\u001b[0m\u001b[37m\u001b[0m \u001b[1m0s\u001b[0m 2ms/step - accuracy: 1.0000 - loss: 2.9196e-04 - val_accuracy: 0.9762 - val_loss: 0.0488\n",
            "Epoch 53/100\n",
            "\u001b[1m154/154\u001b[0m \u001b[32m━━━━━━━━━━━━━━━━━━━━\u001b[0m\u001b[37m\u001b[0m \u001b[1m0s\u001b[0m 2ms/step - accuracy: 1.0000 - loss: 2.5436e-04 - val_accuracy: 0.9762 - val_loss: 0.0492\n",
            "Epoch 54/100\n",
            "\u001b[1m154/154\u001b[0m \u001b[32m━━━━━━━━━━━━━━━━━━━━\u001b[0m\u001b[37m\u001b[0m \u001b[1m0s\u001b[0m 2ms/step - accuracy: 1.0000 - loss: 2.3527e-04 - val_accuracy: 0.9762 - val_loss: 0.0488\n",
            "Epoch 55/100\n",
            "\u001b[1m154/154\u001b[0m \u001b[32m━━━━━━━━━━━━━━━━━━━━\u001b[0m\u001b[37m\u001b[0m \u001b[1m0s\u001b[0m 2ms/step - accuracy: 1.0000 - loss: 2.1359e-04 - val_accuracy: 0.9762 - val_loss: 0.0491\n",
            "Epoch 56/100\n",
            "\u001b[1m154/154\u001b[0m \u001b[32m━━━━━━━━━━━━━━━━━━━━\u001b[0m\u001b[37m\u001b[0m \u001b[1m0s\u001b[0m 2ms/step - accuracy: 1.0000 - loss: 2.0590e-04 - val_accuracy: 0.9762 - val_loss: 0.0494\n",
            "Epoch 57/100\n",
            "\u001b[1m154/154\u001b[0m \u001b[32m━━━━━━━━━━━━━━━━━━━━\u001b[0m\u001b[37m\u001b[0m \u001b[1m0s\u001b[0m 2ms/step - accuracy: 1.0000 - loss: 1.8479e-04 - val_accuracy: 0.9762 - val_loss: 0.0491\n",
            "Epoch 58/100\n",
            "\u001b[1m154/154\u001b[0m \u001b[32m━━━━━━━━━━━━━━━━━━━━\u001b[0m\u001b[37m\u001b[0m \u001b[1m0s\u001b[0m 2ms/step - accuracy: 1.0000 - loss: 1.7122e-04 - val_accuracy: 0.9762 - val_loss: 0.0492\n",
            "Epoch 59/100\n",
            "\u001b[1m154/154\u001b[0m \u001b[32m━━━━━━━━━━━━━━━━━━━━\u001b[0m\u001b[37m\u001b[0m \u001b[1m0s\u001b[0m 2ms/step - accuracy: 1.0000 - loss: 1.4721e-04 - val_accuracy: 0.9762 - val_loss: 0.0496\n",
            "Epoch 60/100\n",
            "\u001b[1m154/154\u001b[0m \u001b[32m━━━━━━━━━━━━━━━━━━━━\u001b[0m\u001b[37m\u001b[0m \u001b[1m0s\u001b[0m 2ms/step - accuracy: 1.0000 - loss: 1.4504e-04 - val_accuracy: 0.9762 - val_loss: 0.0494\n",
            "Epoch 61/100\n",
            "\u001b[1m154/154\u001b[0m \u001b[32m━━━━━━━━━━━━━━━━━━━━\u001b[0m\u001b[37m\u001b[0m \u001b[1m0s\u001b[0m 2ms/step - accuracy: 1.0000 - loss: 1.2894e-04 - val_accuracy: 0.9762 - val_loss: 0.0497\n",
            "Epoch 62/100\n",
            "\u001b[1m154/154\u001b[0m \u001b[32m━━━━━━━━━━━━━━━━━━━━\u001b[0m\u001b[37m\u001b[0m \u001b[1m0s\u001b[0m 2ms/step - accuracy: 1.0000 - loss: 1.2420e-04 - val_accuracy: 0.9762 - val_loss: 0.0499\n",
            "Epoch 63/100\n",
            "\u001b[1m154/154\u001b[0m \u001b[32m━━━━━━━━━━━━━━━━━━━━\u001b[0m\u001b[37m\u001b[0m \u001b[1m0s\u001b[0m 2ms/step - accuracy: 1.0000 - loss: 1.1020e-04 - val_accuracy: 0.9762 - val_loss: 0.0497\n",
            "Epoch 64/100\n",
            "\u001b[1m154/154\u001b[0m \u001b[32m━━━━━━━━━━━━━━━━━━━━\u001b[0m\u001b[37m\u001b[0m \u001b[1m0s\u001b[0m 2ms/step - accuracy: 1.0000 - loss: 1.0149e-04 - val_accuracy: 0.9762 - val_loss: 0.0501\n",
            "Epoch 65/100\n",
            "\u001b[1m154/154\u001b[0m \u001b[32m━━━━━━━━━━━━━━━━━━━━\u001b[0m\u001b[37m\u001b[0m \u001b[1m0s\u001b[0m 2ms/step - accuracy: 1.0000 - loss: 9.8792e-05 - val_accuracy: 0.9762 - val_loss: 0.0500\n",
            "Epoch 66/100\n",
            "\u001b[1m154/154\u001b[0m \u001b[32m━━━━━━━━━━━━━━━━━━━━\u001b[0m\u001b[37m\u001b[0m \u001b[1m0s\u001b[0m 2ms/step - accuracy: 1.0000 - loss: 8.7996e-05 - val_accuracy: 0.9762 - val_loss: 0.0506\n",
            "Epoch 67/100\n",
            "\u001b[1m154/154\u001b[0m \u001b[32m━━━━━━━━━━━━━━━━━━━━\u001b[0m\u001b[37m\u001b[0m \u001b[1m0s\u001b[0m 2ms/step - accuracy: 1.0000 - loss: 7.8190e-05 - val_accuracy: 0.9762 - val_loss: 0.0505\n",
            "Epoch 68/100\n",
            "\u001b[1m154/154\u001b[0m \u001b[32m━━━━━━━━━━━━━━━━━━━━\u001b[0m\u001b[37m\u001b[0m \u001b[1m0s\u001b[0m 2ms/step - accuracy: 1.0000 - loss: 7.1907e-05 - val_accuracy: 0.9762 - val_loss: 0.0508\n",
            "Epoch 69/100\n",
            "\u001b[1m154/154\u001b[0m \u001b[32m━━━━━━━━━━━━━━━━━━━━\u001b[0m\u001b[37m\u001b[0m \u001b[1m0s\u001b[0m 2ms/step - accuracy: 1.0000 - loss: 7.0426e-05 - val_accuracy: 0.9762 - val_loss: 0.0507\n",
            "Epoch 70/100\n",
            "\u001b[1m154/154\u001b[0m \u001b[32m━━━━━━━━━━━━━━━━━━━━\u001b[0m\u001b[37m\u001b[0m \u001b[1m0s\u001b[0m 2ms/step - accuracy: 1.0000 - loss: 6.6290e-05 - val_accuracy: 0.9762 - val_loss: 0.0510\n",
            "Epoch 71/100\n",
            "\u001b[1m154/154\u001b[0m \u001b[32m━━━━━━━━━━━━━━━━━━━━\u001b[0m\u001b[37m\u001b[0m \u001b[1m0s\u001b[0m 2ms/step - accuracy: 1.0000 - loss: 5.9188e-05 - val_accuracy: 0.9762 - val_loss: 0.0510\n",
            "Epoch 72/100\n",
            "\u001b[1m154/154\u001b[0m \u001b[32m━━━━━━━━━━━━━━━━━━━━\u001b[0m\u001b[37m\u001b[0m \u001b[1m0s\u001b[0m 2ms/step - accuracy: 1.0000 - loss: 5.4129e-05 - val_accuracy: 0.9762 - val_loss: 0.0511\n",
            "Epoch 73/100\n",
            "\u001b[1m154/154\u001b[0m \u001b[32m━━━━━━━━━━━━━━━━━━━━\u001b[0m\u001b[37m\u001b[0m \u001b[1m0s\u001b[0m 2ms/step - accuracy: 1.0000 - loss: 4.7837e-05 - val_accuracy: 0.9762 - val_loss: 0.0516\n",
            "Epoch 74/100\n",
            "\u001b[1m154/154\u001b[0m \u001b[32m━━━━━━━━━━━━━━━━━━━━\u001b[0m\u001b[37m\u001b[0m \u001b[1m0s\u001b[0m 2ms/step - accuracy: 1.0000 - loss: 4.6646e-05 - val_accuracy: 0.9762 - val_loss: 0.0518\n",
            "Epoch 75/100\n",
            "\u001b[1m154/154\u001b[0m \u001b[32m━━━━━━━━━━━━━━━━━━━━\u001b[0m\u001b[37m\u001b[0m \u001b[1m0s\u001b[0m 2ms/step - accuracy: 1.0000 - loss: 4.0008e-05 - val_accuracy: 0.9762 - val_loss: 0.0522\n",
            "Epoch 76/100\n",
            "\u001b[1m154/154\u001b[0m \u001b[32m━━━━━━━━━━━━━━━━━━━━\u001b[0m\u001b[37m\u001b[0m \u001b[1m0s\u001b[0m 2ms/step - accuracy: 1.0000 - loss: 3.5988e-05 - val_accuracy: 0.9762 - val_loss: 0.0517\n",
            "Epoch 77/100\n",
            "\u001b[1m154/154\u001b[0m \u001b[32m━━━━━━━━━━━━━━━━━━━━\u001b[0m\u001b[37m\u001b[0m \u001b[1m0s\u001b[0m 2ms/step - accuracy: 1.0000 - loss: 3.5681e-05 - val_accuracy: 0.9762 - val_loss: 0.0519\n",
            "Epoch 78/100\n",
            "\u001b[1m154/154\u001b[0m \u001b[32m━━━━━━━━━━━━━━━━━━━━\u001b[0m\u001b[37m\u001b[0m \u001b[1m0s\u001b[0m 2ms/step - accuracy: 1.0000 - loss: 3.3489e-05 - val_accuracy: 0.9762 - val_loss: 0.0522\n",
            "Epoch 79/100\n",
            "\u001b[1m154/154\u001b[0m \u001b[32m━━━━━━━━━━━━━━━━━━━━\u001b[0m\u001b[37m\u001b[0m \u001b[1m0s\u001b[0m 2ms/step - accuracy: 1.0000 - loss: 2.8414e-05 - val_accuracy: 0.9762 - val_loss: 0.0524\n",
            "Epoch 80/100\n",
            "\u001b[1m154/154\u001b[0m \u001b[32m━━━━━━━━━━━━━━━━━━━━\u001b[0m\u001b[37m\u001b[0m \u001b[1m0s\u001b[0m 2ms/step - accuracy: 1.0000 - loss: 2.7219e-05 - val_accuracy: 0.9762 - val_loss: 0.0525\n",
            "Epoch 81/100\n",
            "\u001b[1m154/154\u001b[0m \u001b[32m━━━━━━━━━━━━━━━━━━━━\u001b[0m\u001b[37m\u001b[0m \u001b[1m0s\u001b[0m 2ms/step - accuracy: 1.0000 - loss: 2.5194e-05 - val_accuracy: 0.9762 - val_loss: 0.0529\n",
            "Epoch 82/100\n",
            "\u001b[1m154/154\u001b[0m \u001b[32m━━━━━━━━━━━━━━━━━━━━\u001b[0m\u001b[37m\u001b[0m \u001b[1m0s\u001b[0m 2ms/step - accuracy: 1.0000 - loss: 2.7274e-05 - val_accuracy: 0.9762 - val_loss: 0.0532\n",
            "Epoch 83/100\n",
            "\u001b[1m154/154\u001b[0m \u001b[32m━━━━━━━━━━━━━━━━━━━━\u001b[0m\u001b[37m\u001b[0m \u001b[1m0s\u001b[0m 2ms/step - accuracy: 1.0000 - loss: 2.3485e-05 - val_accuracy: 0.9762 - val_loss: 0.0531\n",
            "Epoch 84/100\n",
            "\u001b[1m154/154\u001b[0m \u001b[32m━━━━━━━━━━━━━━━━━━━━\u001b[0m\u001b[37m\u001b[0m \u001b[1m0s\u001b[0m 2ms/step - accuracy: 1.0000 - loss: 1.9879e-05 - val_accuracy: 0.9762 - val_loss: 0.0532\n",
            "Epoch 85/100\n",
            "\u001b[1m154/154\u001b[0m \u001b[32m━━━━━━━━━━━━━━━━━━━━\u001b[0m\u001b[37m\u001b[0m \u001b[1m0s\u001b[0m 2ms/step - accuracy: 1.0000 - loss: 1.9670e-05 - val_accuracy: 0.9762 - val_loss: 0.0531\n",
            "Epoch 86/100\n",
            "\u001b[1m154/154\u001b[0m \u001b[32m━━━━━━━━━━━━━━━━━━━━\u001b[0m\u001b[37m\u001b[0m \u001b[1m0s\u001b[0m 2ms/step - accuracy: 1.0000 - loss: 1.8384e-05 - val_accuracy: 0.9762 - val_loss: 0.0533\n",
            "Epoch 87/100\n",
            "\u001b[1m154/154\u001b[0m \u001b[32m━━━━━━━━━━━━━━━━━━━━\u001b[0m\u001b[37m\u001b[0m \u001b[1m0s\u001b[0m 2ms/step - accuracy: 1.0000 - loss: 1.6479e-05 - val_accuracy: 0.9762 - val_loss: 0.0530\n",
            "Epoch 88/100\n",
            "\u001b[1m154/154\u001b[0m \u001b[32m━━━━━━━━━━━━━━━━━━━━\u001b[0m\u001b[37m\u001b[0m \u001b[1m0s\u001b[0m 2ms/step - accuracy: 1.0000 - loss: 1.5161e-05 - val_accuracy: 0.9762 - val_loss: 0.0536\n",
            "Epoch 89/100\n",
            "\u001b[1m154/154\u001b[0m \u001b[32m━━━━━━━━━━━━━━━━━━━━\u001b[0m\u001b[37m\u001b[0m \u001b[1m0s\u001b[0m 2ms/step - accuracy: 1.0000 - loss: 1.3637e-05 - val_accuracy: 0.9762 - val_loss: 0.0535\n",
            "Epoch 90/100\n",
            "\u001b[1m154/154\u001b[0m \u001b[32m━━━━━━━━━━━━━━━━━━━━\u001b[0m\u001b[37m\u001b[0m \u001b[1m0s\u001b[0m 2ms/step - accuracy: 1.0000 - loss: 1.2950e-05 - val_accuracy: 0.9762 - val_loss: 0.0537\n",
            "Epoch 91/100\n",
            "\u001b[1m154/154\u001b[0m \u001b[32m━━━━━━━━━━━━━━━━━━━━\u001b[0m\u001b[37m\u001b[0m \u001b[1m0s\u001b[0m 2ms/step - accuracy: 1.0000 - loss: 1.1711e-05 - val_accuracy: 0.9762 - val_loss: 0.0542\n",
            "Epoch 92/100\n",
            "\u001b[1m154/154\u001b[0m \u001b[32m━━━━━━━━━━━━━━━━━━━━\u001b[0m\u001b[37m\u001b[0m \u001b[1m0s\u001b[0m 2ms/step - accuracy: 1.0000 - loss: 1.0970e-05 - val_accuracy: 0.9762 - val_loss: 0.0545\n",
            "Epoch 93/100\n",
            "\u001b[1m154/154\u001b[0m \u001b[32m━━━━━━━━━━━━━━━━━━━━\u001b[0m\u001b[37m\u001b[0m \u001b[1m0s\u001b[0m 2ms/step - accuracy: 1.0000 - loss: 9.9358e-06 - val_accuracy: 0.9762 - val_loss: 0.0547\n",
            "Epoch 94/100\n",
            "\u001b[1m154/154\u001b[0m \u001b[32m━━━━━━━━━━━━━━━━━━━━\u001b[0m\u001b[37m\u001b[0m \u001b[1m0s\u001b[0m 2ms/step - accuracy: 1.0000 - loss: 9.3317e-06 - val_accuracy: 0.9762 - val_loss: 0.0549\n",
            "Epoch 95/100\n",
            "\u001b[1m154/154\u001b[0m \u001b[32m━━━━━━━━━━━━━━━━━━━━\u001b[0m\u001b[37m\u001b[0m \u001b[1m0s\u001b[0m 2ms/step - accuracy: 1.0000 - loss: 8.6268e-06 - val_accuracy: 0.9762 - val_loss: 0.0549\n",
            "Epoch 96/100\n",
            "\u001b[1m154/154\u001b[0m \u001b[32m━━━━━━━━━━━━━━━━━━━━\u001b[0m\u001b[37m\u001b[0m \u001b[1m0s\u001b[0m 2ms/step - accuracy: 1.0000 - loss: 7.9726e-06 - val_accuracy: 0.9762 - val_loss: 0.0549\n",
            "Epoch 97/100\n",
            "\u001b[1m154/154\u001b[0m \u001b[32m━━━━━━━━━━━━━━━━━━━━\u001b[0m\u001b[37m\u001b[0m \u001b[1m0s\u001b[0m 2ms/step - accuracy: 1.0000 - loss: 7.1163e-06 - val_accuracy: 0.9762 - val_loss: 0.0552\n",
            "Epoch 98/100\n",
            "\u001b[1m154/154\u001b[0m \u001b[32m━━━━━━━━━━━━━━━━━━━━\u001b[0m\u001b[37m\u001b[0m \u001b[1m0s\u001b[0m 2ms/step - accuracy: 1.0000 - loss: 6.7629e-06 - val_accuracy: 0.9762 - val_loss: 0.0548\n",
            "Epoch 99/100\n",
            "\u001b[1m154/154\u001b[0m \u001b[32m━━━━━━━━━━━━━━━━━━━━\u001b[0m\u001b[37m\u001b[0m \u001b[1m0s\u001b[0m 2ms/step - accuracy: 1.0000 - loss: 6.3788e-06 - val_accuracy: 0.9762 - val_loss: 0.0551\n",
            "Epoch 100/100\n",
            "\u001b[1m154/154\u001b[0m \u001b[32m━━━━━━━━━━━━━━━━━━━━\u001b[0m\u001b[37m\u001b[0m \u001b[1m0s\u001b[0m 2ms/step - accuracy: 1.0000 - loss: 5.7668e-06 - val_accuracy: 0.9762 - val_loss: 0.0554\n"
          ]
        }
      ],
      "source": [
        "# Création du modèle\n",
        "input_size = X_train.shape[1]  # Nombre de features\n",
        "nb_classes = 42  # Nombre de classes (maladies)\n",
        "\n",
        "model = create_model(input_size, nb_classes)\n",
        "\n",
        "# Entraînement du modèle\n",
        "history = model.fit(X_train, Y_train_one_hot, epochs=100, batch_size=32, validation_data=(X_test, Y_test_one_hot))\n"
      ]
    },
    {
      "cell_type": "code",
      "execution_count": 20,
      "metadata": {
        "id": "fofGHheq90XA"
      },
      "outputs": [
        {
          "name": "stdout",
          "output_type": "stream",
          "text": [
            "\u001b[1m154/154\u001b[0m \u001b[32m━━━━━━━━━━━━━━━━━━━━\u001b[0m\u001b[37m\u001b[0m \u001b[1m0s\u001b[0m 2ms/step - accuracy: 1.0000 - loss: 8.5969e-06\n",
            "Précision sur l'ensemble d'entraînement: 100.00%\n",
            "\u001b[1m2/2\u001b[0m \u001b[32m━━━━━━━━━━━━━━━━━━━━\u001b[0m\u001b[37m\u001b[0m \u001b[1m0s\u001b[0m 14ms/step - accuracy: 0.9841 - loss: 0.0370  \n",
            "Précision sur l'ensemble de test : 97.62%\n"
          ]
        }
      ],
      "source": [
        "# Évaluation du modèle sur l'ensemble d'entraînement\n",
        "train_loss, train_accuracy = model.evaluate(X_train, Y_train_one_hot)\n",
        "print(f\"Précision sur l'ensemble d'entraînement: {train_accuracy:.2%}\")\n",
        "\n",
        "# Évaluation du modèle sur l'ensemble de test\n",
        "test_loss, test_accuracy = model.evaluate(X_test, Y_test_one_hot)\n",
        "print(f\"Précision sur l'ensemble de test :  {test_accuracy:.2%}\")\n"
      ]
    },
    {
      "cell_type": "code",
      "execution_count": 24,
      "metadata": {
        "id": "xJBoucNNqR68"
      },
      "outputs": [
        {
          "name": "stdout",
          "output_type": "stream",
          "text": [
            "\u001b[1m2/2\u001b[0m \u001b[32m━━━━━━━━━━━━━━━━━━━━\u001b[0m\u001b[37m\u001b[0m \u001b[1m0s\u001b[0m 6ms/step \n",
            "['Fungal infection' 'Allergy' 'GERD' 'Chronic cholestasis' 'Drug Reaction'\n",
            " 'Peptic ulcer diseae' 'AIDS' 'Diabetes ' 'Gastroenteritis'\n",
            " 'Bronchial Asthma' 'Hypertension ' 'Migraine' 'Cervical spondylosis'\n",
            " 'Paralysis (brain hemorrhage)' 'Jaundice' 'Malaria' 'Chicken pox'\n",
            " 'Dengue' 'Typhoid' 'hepatitis A' 'Hepatitis B' 'Hepatitis C'\n",
            " 'Hepatitis D' 'Hepatitis E' 'Alcoholic hepatitis' 'Tuberculosis'\n",
            " 'Common Cold' 'Pneumonia' 'Dimorphic hemmorhoids(piles)' 'Heart attack'\n",
            " 'Varicose veins' 'Hypothyroidism' 'Hyperthyroidism' 'Hypoglycemia'\n",
            " 'Osteoarthristis' 'Arthritis' '(vertigo) Paroymsal  Positional Vertigo'\n",
            " 'Acne' 'Urinary tract infection' 'Psoriasis' 'Impetigo' 'Impetigo']\n"
          ]
        }
      ],
      "source": [
        "# Prédictions sur les données de test\n",
        "test_predictions = model.predict(X_test)\n",
        "\n",
        "# Convertir les prédictions en classes (maladies)\n",
        "test_predictions_classes = np.argmax(test_predictions, axis=1)\n",
        "\n",
        "# Mapper les indices aux noms des maladies\n",
        "noms_maladies_predites = label_encoder.inverse_transform(test_predictions_classes)\n",
        "print(noms_maladies_predites)"
      ]
    },
    {
      "cell_type": "code",
      "execution_count": 25,
      "metadata": {
        "id": "JEU-symDqjbD"
      },
      "outputs": [
        {
          "data": {
            "image/png": "[encoded data removed]",
            "text/plain": [
              "<Figure size 640x480 with 1 Axes>"
            ]
          },
          "metadata": {},
          "output_type": "display_data"
        }
      ],
      "source": [
        "# Tracer la courbe d'apprentissage\n",
        "plt.plot(history.history['loss'], label='train')\n",
        "plt.plot(history.history['val_loss'], label='test')\n",
        "plt.xlabel(\"Épochs\")\n",
        "plt.ylabel(\"Coût (loss)\")\n",
        "plt.title(\"Courbe d'apprentissage\")\n",
        "plt.legend()\n",
        "plt.show()\n"
      ]
    }
  ],
  "metadata": {
    "colab": {
      "provenance": []
    },
    "kernelspec": {
      "display_name": "Python 3",
      "name": "python3"
    },
    "language_info": {
      "codemirror_mode": {
        "name": "ipython",
        "version": 3
      },
      "file_extension": ".py",
      "mimetype": "text/x-python",
      "name": "python",
      "nbconvert_exporter": "python",
      "pygments_lexer": "ipython3",
      "version": "3.12.4"
    }
  },
  "nbformat": 4,
  "nbformat_minor": 0
}
