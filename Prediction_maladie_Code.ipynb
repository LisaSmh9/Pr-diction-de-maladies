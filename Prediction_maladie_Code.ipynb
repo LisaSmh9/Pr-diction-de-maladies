{
  "cells": [
    {
      "cell_type": "code",
      "execution_count": 1,
      "metadata": {
        "id": "rWifNk0MZusH"
      },
      "outputs": [],
      "source": [
        "import pandas as pd\n",
        "import matplotlib.pyplot as plt\n",
        "import numpy as np\n",
        "import sklearn\n",
        "from sklearn.model_selection import train_test_split\n",
        "import sklearn.datasets\n",
        "import sklearn.linear_model\n",
        "from sklearn.preprocessing import LabelEncoder"
      ]
    },
    {
      "cell_type": "code",
      "execution_count": 2,
      "metadata": {
        "colab": {
          "base_uri": "https://localhost:8080/"
        },
        "id": "KvAHIBe_coEe",
        "outputId": "b94e38b4-0d8c-44af-c440-70e448a85612"
      },
      "outputs": [
        {
          "output_type": "stream",
          "name": "stdout",
          "text": [
            "La dimension du training_data est : (4920, 134)\n",
            "La dimension du testing_data est : (42, 133)\n"
          ]
        }
      ],
      "source": [
        "#Charger les données\n",
        "training_data = pd.read_csv(\"Training.csv\")\n",
        "testing_data = pd.read_csv(\"Testing.csv\")\n",
        "\n",
        "dim_Train = training_data.shape\n",
        "dim_Test = testing_data.shape\n",
        "\n",
        "print(\"La dimension du training_data est :\", dim_Train)\n",
        "print(\"La dimension du testing_data est :\", dim_Test)"
      ]
    },
    {
      "cell_type": "code",
      "execution_count": 3,
      "metadata": {
        "colab": {
          "base_uri": "https://localhost:8080/"
        },
        "id": "9p2IY9oIkyKx",
        "outputId": "50931a87-a8ff-42c7-d94f-72013b0b48f7"
      },
      "outputs": [
        {
          "output_type": "stream",
          "name": "stdout",
          "text": [
            "Dernière colonne par indice est :\n",
            " 0      NaN\n",
            "1      NaN\n",
            "2      NaN\n",
            "3      NaN\n",
            "4      NaN\n",
            "        ..\n",
            "4915   NaN\n",
            "4916   NaN\n",
            "4917   NaN\n",
            "4918   NaN\n",
            "4919   NaN\n",
            "Name: Unnamed: 133, Length: 4920, dtype: float64\n",
            "Index(['itching', 'skin_rash', 'nodal_skin_eruptions', 'continuous_sneezing',\n",
            "       'shivering', 'chills', 'joint_pain', 'stomach_pain', 'acidity',\n",
            "       'ulcers_on_tongue',\n",
            "       ...\n",
            "       'scurring', 'skin_peeling', 'silver_like_dusting',\n",
            "       'small_dents_in_nails', 'inflammatory_nails', 'blister',\n",
            "       'red_sore_around_nose', 'yellow_crust_ooze', 'prognosis',\n",
            "       'Unnamed: 133'],\n",
            "      dtype='object', length=134)\n",
            "[nan]\n"
          ]
        }
      ],
      "source": [
        "derniere_colonne = training_data.iloc[:, 133]\n",
        "print(\"Dernière colonne par indice est :\\n\", derniere_colonne)\n",
        "\n",
        "#Noms des colonnes de notre dataset\n",
        "print(training_data.columns)\n",
        "\n",
        "valeurs_uniques = training_data['Unnamed: 133'].unique()\n",
        "print(valeurs_uniques) #la colonne \"Unnamed: 133\" contient que des Na\n",
        "\n",
        "#Suppression de la colonne \"Unnamed: 133\", car elle contient que des Na\n",
        "training_data = training_data.drop(columns=['Unnamed: 133'])"
      ]
    },
    {
      "cell_type": "code",
      "execution_count": 4,
      "metadata": {
        "colab": {
          "base_uri": "https://localhost:8080/"
        },
        "id": "j0AGmBGvl19R",
        "outputId": "15ad6781-568c-48b1-ffba-c3bf9df8f41d"
      },
      "outputs": [
        {
          "output_type": "stream",
          "name": "stdout",
          "text": [
            "   itching  skin_rash  nodal_skin_eruptions  continuous_sneezing  shivering  \\\n",
            "0        1          1                     1                    0          0   \n",
            "1        0          1                     1                    0          0   \n",
            "2        1          0                     1                    0          0   \n",
            "3        1          1                     0                    0          0   \n",
            "4        1          1                     1                    0          0   \n",
            "\n",
            "   chills  joint_pain  stomach_pain  acidity  ulcers_on_tongue  ...  \\\n",
            "0       0           0             0        0                 0  ...   \n",
            "1       0           0             0        0                 0  ...   \n",
            "2       0           0             0        0                 0  ...   \n",
            "3       0           0             0        0                 0  ...   \n",
            "4       0           0             0        0                 0  ...   \n",
            "\n",
            "   blackheads  scurring  skin_peeling  silver_like_dusting  \\\n",
            "0           0         0             0                    0   \n",
            "1           0         0             0                    0   \n",
            "2           0         0             0                    0   \n",
            "3           0         0             0                    0   \n",
            "4           0         0             0                    0   \n",
            "\n",
            "   small_dents_in_nails  inflammatory_nails  blister  red_sore_around_nose  \\\n",
            "0                     0                   0        0                     0   \n",
            "1                     0                   0        0                     0   \n",
            "2                     0                   0        0                     0   \n",
            "3                     0                   0        0                     0   \n",
            "4                     0                   0        0                     0   \n",
            "\n",
            "   yellow_crust_ooze         prognosis  \n",
            "0                  0  Fungal infection  \n",
            "1                  0  Fungal infection  \n",
            "2                  0  Fungal infection  \n",
            "3                  0  Fungal infection  \n",
            "4                  0  Fungal infection  \n",
            "\n",
            "[5 rows x 133 columns]\n",
            "(41,)\n",
            "Fungal infection                           120\n",
            "Hepatitis C                                120\n",
            "Hepatitis E                                120\n",
            "Alcoholic hepatitis                        120\n",
            "Tuberculosis                               120\n",
            "Common Cold                                120\n",
            "Pneumonia                                  120\n",
            "Dimorphic hemmorhoids(piles)               120\n",
            "Heart attack                               120\n",
            "Varicose veins                             120\n",
            "Hypothyroidism                             120\n",
            "Hyperthyroidism                            120\n",
            "Hypoglycemia                               120\n",
            "Osteoarthristis                            120\n",
            "Arthritis                                  120\n",
            "(vertigo) Paroymsal  Positional Vertigo    120\n",
            "Acne                                       120\n",
            "Urinary tract infection                    120\n",
            "Psoriasis                                  120\n",
            "Hepatitis D                                120\n",
            "Hepatitis B                                120\n",
            "Allergy                                    120\n",
            "hepatitis A                                120\n",
            "GERD                                       120\n",
            "Chronic cholestasis                        120\n",
            "Drug Reaction                              120\n",
            "Peptic ulcer diseae                        120\n",
            "AIDS                                       120\n",
            "Diabetes                                   120\n",
            "Gastroenteritis                            120\n",
            "Bronchial Asthma                           120\n",
            "Hypertension                               120\n",
            "Migraine                                   120\n",
            "Cervical spondylosis                       120\n",
            "Paralysis (brain hemorrhage)               120\n",
            "Jaundice                                   120\n",
            "Malaria                                    120\n",
            "Chicken pox                                120\n",
            "Dengue                                     120\n",
            "Typhoid                                    120\n",
            "Impetigo                                   120\n",
            "Name: prognosis, dtype: int64\n"
          ]
        }
      ],
      "source": [
        "print(training_data.head())\n",
        "\n",
        "#liste des différentes classes (maladies)\n",
        "valeurs_uniques = training_data['prognosis'].unique()\n",
        "print(valeurs_uniques.shape) #42 maladies\n",
        "#Occurrences de chaque classe\n",
        "nb_valeurs_uniques = training_data['prognosis'].value_counts()\n",
        "print(nb_valeurs_uniques)"
      ]
    },
    {
      "cell_type": "code",
      "execution_count": 5,
      "metadata": {
        "colab": {
          "base_uri": "https://localhost:8080/"
        },
        "id": "KQvfgBAclMbB",
        "outputId": "1fecf6be-6183-4f2d-d94c-184ce1a08025"
      },
      "outputs": [
        {
          "output_type": "stream",
          "name": "stdout",
          "text": [
            "4920 132\n",
            "(4920,)\n"
          ]
        }
      ],
      "source": [
        "train_data = training_data.iloc[:,0:132]\n",
        "Y = training_data.iloc[:,132]\n",
        "x = train_data.shape[0]\n",
        "y = train_data.shape[1]\n",
        "print(x, y)\n",
        "print(Y.shape)"
      ]
    },
    {
      "cell_type": "code",
      "execution_count": 6,
      "metadata": {
        "id": "rQdJcSk1VoIZ"
      },
      "outputs": [],
      "source": [
        "# Initialisation des poids et biais avec 128 neurones\n",
        "def initialisation(nb_neurone, nb_classes):\n",
        "    w = np.zeros((y, nb_neurone))\n",
        "    b = np.zeros((1, nb_neurone))\n",
        "    v = np.zeros((nb_neurone, nb_classes))\n",
        "    c = np.zeros((1, nb_classes))\n",
        "    return w, b, v, c\n",
        "\n",
        "    # 'w' et 'b' représentent les poids et le biais associés à la couche cachée.\n",
        "    # 'v' et 'c' représentent les poids et le biais associés à la couche de sortie."
      ]
    },
    {
      "cell_type": "code",
      "execution_count": 7,
      "metadata": {
        "colab": {
          "base_uri": "https://localhost:8080/"
        },
        "id": "SVVFpVVx90ML",
        "outputId": "b72ed61b-c466-470f-ad49-7c1cf89852b6"
      },
      "outputs": [
        {
          "output_type": "stream",
          "name": "stdout",
          "text": [
            "(132, 128)\n",
            "(1, 128)\n",
            "(128, 42)\n",
            "(1, 42)\n"
          ]
        }
      ],
      "source": [
        "#Inialisation avec 128 neurones\n",
        "w, b, v, c = initialisation(128,42) #42 clasess(maladies)\n",
        "print(w.shape)\n",
        "print(b.shape)\n",
        "print(v.shape)\n",
        "print(c.shape)"
      ]
    },
    {
      "cell_type": "code",
      "execution_count": 8,
      "metadata": {
        "id": "TtR6kFNdWo4M"
      },
      "outputs": [],
      "source": [
        "# Fonction d'activation sigmoid\n",
        "def sigmoid(z):\n",
        "    return 1 / (1 + np.exp(-z))"
      ]
    },
    {
      "cell_type": "code",
      "execution_count": 9,
      "metadata": {
        "id": "fofGHheq90XA"
      },
      "outputs": [],
      "source": [
        "# Fonction d'activation softmax\n",
        "def softmax(z):\n",
        "    exp_z = np.exp(z - np.max(z))  # Pour la stabilité numérique\n",
        "    return exp_z / exp_z.sum(axis=1, keepdims=True)"
      ]
    },
    {
      "cell_type": "code",
      "execution_count": 10,
      "metadata": {
        "id": "xJBoucNNqR68"
      },
      "outputs": [],
      "source": [
        "# Fonction de modèle\n",
        "def model(train_data, w, b, v, c):\n",
        "    Z1 = np.dot(train_data, w) + b\n",
        "    A1 = sigmoid(Z1)\n",
        "    Z2 = np.dot(A1, v) + c\n",
        "    A2 = softmax(Z2)\n",
        "    return A2"
      ]
    },
    {
      "cell_type": "code",
      "execution_count": 11,
      "metadata": {
        "id": "JEU-symDqjbD"
      },
      "outputs": [],
      "source": [
        "# Fonction de coût\n",
        "def compute_cost(A, Y):\n",
        "    m = Y.shape[0]\n",
        "    epsilon = 1e-15\n",
        "    A = np.maximum(epsilon, A)\n",
        "    cost = -1/m * np.sum(Y * np.log(A))\n",
        "    return cost"
      ]
    },
    {
      "cell_type": "code",
      "execution_count": 12,
      "metadata": {
        "id": "rRs9h1jCmnkf"
      },
      "outputs": [],
      "source": [
        "## Propagation (Forward et Backward)\n",
        "def propagate(w, b, v, c, X, Y):\n",
        "    m = X.shape[0]\n",
        "\n",
        "    # Forward Propagation\n",
        "    Z1 = np.dot(X, w) + b\n",
        "    A1 = sigmoid(Z1)\n",
        "    Z2 = np.dot(A1, v) + c\n",
        "    A2 = softmax(Z2)\n",
        "\n",
        "    # Calcul du coût\n",
        "    cost = compute_cost(A2, Y)\n",
        "\n",
        "    # Backward Propagation\n",
        "    dZ2 = A2 - Y\n",
        "    dv = 1/m * np.dot(A1.T, dZ2)\n",
        "    dc = 1/m * np.sum(dZ2, axis=0, keepdims=True)\n",
        "    dZ1 = np.dot(dZ2, v.T) * A1 * (1 - A1)\n",
        "    dw = 1/m * np.dot(X.T, dZ1)\n",
        "    db = 1/m * np.sum(dZ1, axis=0, keepdims=True)\n",
        "\n",
        "    return dw, db, dv, dc, cost"
      ]
    },
    {
      "cell_type": "code",
      "execution_count": 13,
      "metadata": {
        "id": "sqJclRYrB7Bq"
      },
      "outputs": [],
      "source": [
        "# Optimisation\n",
        "def optimize(w, b, v, c, X, Y, num_iterations, learning_rate):\n",
        "    costs = []\n",
        "\n",
        "    for i in range(num_iterations):\n",
        "        dw, db, dv, dc, cost = propagate(w, b, v, c, X, Y)\n",
        "\n",
        "        # Mise à jour des poids et biais\n",
        "        w -= learning_rate * dw\n",
        "        b -= learning_rate * db\n",
        "        v -= learning_rate * dv\n",
        "        c -= learning_rate * dc\n",
        "\n",
        "        # Enregistrement du coût à chaque 100 itérations\n",
        "        if i % 100 == 0:\n",
        "            costs.append(cost)\n",
        "\n",
        "    return w, b, v, c, costs"
      ]
    },
    {
      "cell_type": "code",
      "execution_count": 14,
      "metadata": {
        "id": "E4BsK67LYFIF"
      },
      "outputs": [],
      "source": [
        "# Prédiction\n",
        "def predict(w, b, v, c, X):\n",
        "    A = model(X, w, b, v, c)\n",
        "    predictions = np.argmax(A, axis=1)\n",
        "    return predictions"
      ]
    },
    {
      "cell_type": "code",
      "execution_count": 15,
      "metadata": {
        "id": "mkSD1jUiYLBp"
      },
      "outputs": [],
      "source": [
        "# Ajouter cette fonction pour calculer la précision\n",
        "def calculate_accuracy(predictions, true_labels):\n",
        "    return accuracy_score(true_labels, predictions)\n",
        "# Modèle complet\n",
        "def model_complete(X_train, Y_train, num_iterations=2000, learning_rate=0.01, nb_classes=42):\n",
        "    w, b, v, c = initialisation(128, nb_classes)\n",
        "\n",
        "    # Encodage one-hot des étiquettes\n",
        "    Y_one_hot = np.eye(nb_classes)[Y_train.astype(int).reshape(-1)]\n",
        "\n",
        "    # Optimisation des poids et biais\n",
        "    w, b, v, c, costs = optimize(w, b, v, c, X_train, Y_one_hot, num_iterations, learning_rate)\n",
        "\n",
        "    return w, b, v, c, costs"
      ]
    },
    {
      "cell_type": "code",
      "execution_count": 16,
      "metadata": {
        "id": "Vc9h5tjpYgER"
      },
      "outputs": [],
      "source": [
        "# Séparation des features et des étiquettes pour l'entraînement\n",
        "X_train = train_data.values\n",
        "Y_train = Y.values\n",
        "\n",
        "# Créer un objet LabelEncoder\n",
        "label_encoder = LabelEncoder()\n",
        "\n",
        "# Adapter et transformer les étiquettes de classe dans Y_train\n",
        "Y_train_encoded = label_encoder.fit_transform(Y_train)"
      ]
    },
    {
      "cell_type": "code",
      "source": [
        "print(testing_data.shape)"
      ],
      "metadata": {
        "colab": {
          "base_uri": "https://localhost:8080/"
        },
        "id": "WUUVgxu5Uo93",
        "outputId": "a3618725-33f5-41ff-cdd6-a2ab0bad1433"
      },
      "execution_count": 17,
      "outputs": [
        {
          "output_type": "stream",
          "name": "stdout",
          "text": [
            "(42, 133)\n"
          ]
        }
      ]
    },
    {
      "cell_type": "code",
      "execution_count": 19,
      "metadata": {
        "id": "kfxf62GCYhLn"
      },
      "outputs": [],
      "source": [
        "# Appeler la fonction model_complete avec les étiquettes encodées\n",
        "w, b, v, c, costs = model_complete(X_train, Y_train_encoded,num_iterations=400000, learning_rate=0.5, nb_classes=42)"
      ]
    },
    {
      "cell_type": "code",
      "execution_count": 20,
      "metadata": {
        "colab": {
          "base_uri": "https://localhost:8080/",
          "height": 472
        },
        "id": "zIlKXoYDaf6Y",
        "outputId": "a1b90534-54f6-445c-885c-a3f561525c6f"
      },
      "outputs": [
        {
          "output_type": "display_data",
          "data": {
            "text/plain": [
              "<Figure size 640x480 with 1 Axes>"
            ],
            "image/png": "[encoded data removed]"
          },
          "metadata": {}
        }
      ],
      "source": [
        "# Affichage de la courbe d'apprentissage\n",
        "plt.plot(costs)\n",
        "plt.xlabel(\"Nombre d'itérations (par centaines)\")\n",
        "plt.ylabel(\"Coût\")\n",
        "plt.title(\"Courbe d'apprentissage\")\n",
        "plt.show()"
      ]
    },
    {
      "cell_type": "code",
      "source": [
        "# Charger les données de test (remplacez \"X_test\" par vos données de test)\n",
        "X_test = testing_data.iloc[:, 0:132]\n",
        "\n",
        "# Utiliser la fonction model pour obtenir les probabilités du modèle\n",
        "probabilities = model(X_test, w, b, v, c)\n",
        "\n",
        "# Afficher les probabilités\n",
        "print(probabilities)\n",
        "\n",
        "# Utiliser la fonction predict pour obtenir les prédictions du modèle\n",
        "predictions = predict(w, b, v, c, X_test)\n",
        "\n",
        "# Afficher les prédictions\n",
        "print(predictions)"
      ],
      "metadata": {
        "id": "LWGZFeSe2trx",
        "colab": {
          "base_uri": "https://localhost:8080/"
        },
        "outputId": "ffa7e41e-bd68-4652-dff9-4c9449146486"
      },
      "execution_count": 21,
      "outputs": [
        {
          "output_type": "stream",
          "name": "stdout",
          "text": [
            "[[2.08864155e-05 2.88962706e-03 1.31655961e-03 ... 1.29969887e-01\n",
            "  3.90678106e-39 2.43188871e-15]\n",
            " [1.40879223e-02 1.52669206e-01 2.00320074e-08 ... 1.05336397e-01\n",
            "  1.86453149e-32 1.24034839e-16]\n",
            " [3.19732276e-03 7.56256357e-02 1.00264258e-06 ... 1.87709186e-01\n",
            "  2.79686720e-34 5.15896462e-16]\n",
            " ...\n",
            " [4.66401191e-18 7.26509467e-14 4.47867083e-02 ... 7.57015050e-09\n",
            "  6.31406590e-59 2.39346627e-20]\n",
            " [8.46489302e-05 7.76876488e-03 3.12541203e-04 ... 1.78234924e-01\n",
            "  6.60662105e-38 2.13563372e-15]\n",
            " [2.65817660e-03 6.83829994e-02 1.48989453e-06 ... 1.94805745e-01\n",
            "  1.73576861e-34 5.86537781e-16]]\n",
            "[15  4 16  9 14 33  1 12  0 34 23 26 35 32 28 10  8 11 37 40 19  9 19 22\n",
            "  8 36 10 34 13 18 39 26 24 25 31 24  0 23  2 35 27 16]\n"
          ]
        }
      ]
    },
    {
      "cell_type": "markdown",
      "source": [],
      "metadata": {
        "id": "dMq68FSSKYUy"
      }
    },
    {
      "cell_type": "code",
      "source": [
        "# Extraire la colonne \"prognosis\" pour obtenir la liste des noms de maladies\n",
        "liste_maladies = training_data['prognosis'].unique()\n",
        "\n",
        "# Créer un dictionnaire de correspondance entre les noms de maladies et les indices (classes)\n",
        "dict_maladies_indices = {maladie: indice for indice, maladie in enumerate(liste_maladies)}\n",
        "\n",
        "# Utiliser le dictionnaire pour mapper les prédictions aux noms de maladies\n",
        "noms_maladies_predites = [liste_maladies[prediction] for prediction in predictions]\n",
        "\n",
        "# Afficher les noms des maladies prédites\n",
        "print(noms_maladies_predites)"
      ],
      "metadata": {
        "colab": {
          "base_uri": "https://localhost:8080/"
        },
        "id": "bTk-1kgV1GQK",
        "outputId": "66e0107e-b61f-497a-e9a5-a1a014550fe9"
      },
      "execution_count": 22,
      "outputs": [
        {
          "output_type": "stream",
          "name": "stdout",
          "text": [
            "['Malaria', 'Drug Reaction', 'Chicken pox', 'Bronchial Asthma', 'Jaundice', 'Hypoglycemia', 'Allergy', 'Cervical spondylosis', 'Fungal infection', 'Osteoarthristis', 'Hepatitis E', 'Common Cold', 'Arthritis', 'Hyperthyroidism', 'Dimorphic hemmorhoids(piles)', 'Hypertension ', 'Gastroenteritis', 'Migraine', 'Acne', 'Impetigo', 'hepatitis A', 'Bronchial Asthma', 'hepatitis A', 'Hepatitis D', 'Gastroenteritis', '(vertigo) Paroymsal  Positional Vertigo', 'Hypertension ', 'Osteoarthristis', 'Paralysis (brain hemorrhage)', 'Typhoid', 'Psoriasis', 'Common Cold', 'Alcoholic hepatitis', 'Tuberculosis', 'Hypothyroidism', 'Alcoholic hepatitis', 'Fungal infection', 'Hepatitis E', 'GERD', 'Arthritis', 'Pneumonia', 'Chicken pox']\n"
          ]
        }
      ]
    },
    {
      "cell_type": "code",
      "source": [
        "learning_rates = [0.1, 0.5]\n",
        "models = {}\n",
        "\n",
        "for rate in learning_rates:\n",
        "    print(\"Training with learning rate:\", rate)\n",
        "\n",
        "    # Encodage des étiquettes de classe en entiers\n",
        "    label_encoder = LabelEncoder()\n",
        "    Y_train_encoded = label_encoder.fit_transform(Y_train)\n",
        "\n",
        "    # Appeler la fonction model_complete avec les étiquettes encodées\n",
        "    w, b, v, c, costs = model_complete(X_train, Y_train_encoded,num_iterations=2000, learning_rate=rate)\n",
        "    models[str(rate)] = {\n",
        "        \"parameters\": {\"w\": w, \"b\": b, \"v\": v, \"c\": c},\n",
        "        \"costs\": costs,\n",
        "        \"learning_rate\": rate\n",
        "    }\n",
        "\n",
        "    print('\\n' + \"-------------------------------------------------------\" + '\\n')\n",
        "\n",
        "# Visualisation des courbes d'apprentissage\n",
        "for rate in learning_rates:\n",
        "    plt.plot(np.squeeze(models[str(rate)][\"costs\"]), label=str(models[str(rate)][\"learning_rate\"]))\n",
        "\n",
        "plt.ylabel('coût')\n",
        "plt.xlabel('itérations')\n",
        "\n",
        "legend = plt.legend(loc='upper center', shadow=True)\n",
        "frame = legend.get_frame()\n",
        "frame.set_facecolor('0.90')\n",
        "plt.show()\n"
      ],
      "metadata": {
        "colab": {
          "base_uri": "https://localhost:8080/",
          "height": 594
        },
        "id": "8iDD2cQevYAt",
        "outputId": "ebf68470-342a-4f16-b73c-5a30784ddc49"
      },
      "execution_count": null,
      "outputs": [
        {
          "output_type": "stream",
          "name": "stdout",
          "text": [
            "Training with learning rate: 0.1\n",
            "\n",
            "-------------------------------------------------------\n",
            "\n",
            "Training with learning rate: 0.5\n",
            "\n",
            "-------------------------------------------------------\n",
            "\n"
          ]
        },
        {
          "output_type": "display_data",
          "data": {
            "text/plain": [
              "<Figure size 640x480 with 1 Axes>"
            ],
            "image/png": "[encoded data removed]"
          },
          "metadata": {}
        }
      ]
    },
    {
      "cell_type": "code",
      "execution_count": 23,
      "metadata": {
        "id": "aLkyagbSegQj",
        "colab": {
          "base_uri": "https://localhost:8080/"
        },
        "outputId": "8ccc730f-dfaf-4bc4-c8db-a35fd9e83a82"
      },
      "outputs": [
        {
          "output_type": "stream",
          "name": "stdout",
          "text": [
            "Précision sur l'ensemble d'entrainement: 64.88%\n"
          ]
        }
      ],
      "source": [
        "def calculate_accuracy(predictions, labels):\n",
        "    correct_predictions = np.sum(predictions == labels)\n",
        "    total_examples = len(labels)\n",
        "    accuracy = correct_predictions / total_examples\n",
        "    return accuracy\n",
        "\n",
        "\n",
        "\n",
        "# Utilisation de la fonction de prédiction sur les données d'entraînement\n",
        "train_predictions = predict(w, b, v, c, X_train)\n",
        "\n",
        "# Calcul de la précision sur les données d'entraînement\n",
        "train_accuracy = calculate_accuracy(train_predictions, Y_train_encoded)\n",
        "print(f\"Précision sur l'ensemble d'entrainement: {train_accuracy:.2%}\")\n"
      ]
    },
    {
      "cell_type": "code",
      "execution_count": 24,
      "metadata": {
        "id": "r1PzI8LPfGNa",
        "colab": {
          "base_uri": "https://localhost:8080/"
        },
        "outputId": "47a4f81c-acb2-445e-db8d-0b02b1301d8f"
      },
      "outputs": [
        {
          "output_type": "stream",
          "name": "stdout",
          "text": [
            "Précision sur l'ensemble de test : 71.43%\n"
          ]
        }
      ],
      "source": [
        "# Utilisation de la fonction de prédiction sur les données de test\n",
        "X_test = testing_data.iloc[:, 0:132]\n",
        "Y_test = label_encoder.transform(testing_data['prognosis'])\n",
        "\n",
        "test_predictions = predict(w, b, v, c, X_test)\n",
        "\n",
        "# Calcul de la précision sur les données de test\n",
        "test_accuracy = calculate_accuracy(test_predictions, Y_test)\n",
        "print(f\"Précision sur l'ensemble de test : {test_accuracy:.2%}\")"
      ]
    }
  ],
  "metadata": {
    "colab": {
      "provenance": []
    },
    "kernelspec": {
      "display_name": "Python 3",
      "name": "python3"
    },
    "language_info": {
      "name": "python"
    }
  },
  "nbformat": 4,
  "nbformat_minor": 0
}